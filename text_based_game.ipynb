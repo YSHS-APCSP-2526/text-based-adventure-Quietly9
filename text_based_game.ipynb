{
  "nbformat": 4,
  "nbformat_minor": 0,
  "metadata": {
    "colab": {
      "provenance": [],
      "include_colab_link": true
    },
    "kernelspec": {
      "name": "python3",
      "display_name": "Python 3"
    },
    "language_info": {
      "name": "python"
    }
  },
  "cells": [
    {
      "cell_type": "markdown",
      "metadata": {
        "id": "view-in-github",
        "colab_type": "text"
      },
      "source": [
        "<a href=\"https://colab.research.google.com/github/YSHS-APCSP-2526/text-based-adventure-Quietly9/blob/main/text_based_game.ipynb\" target=\"_parent\"><img src=\"https://colab.research.google.com/assets/colab-badge.svg\" alt=\"Open In Colab\"/></a>"
      ]
    },
    {
      "cell_type": "markdown",
      "source": [
        "#Requirements for text based adventure\n",
        "1. You must have at least 2 different \"paths\" that are at least 4 decisions in length\n",
        "2. Include an element of randomness (from the random library)\n",
        "3. Include a list that is core to the text based adventure\n",
        "4. Include a function that is called within your program that includes a while loop, and a parameter that influences a conditional statement in your function.\n",
        "5. Commented Code.\n",
        "6. A [digital flowchart](https://docs.google.com/document/d/1p2k3wL6gzjYWBuWxwEQptmbbOZZNsQrthlC12SNtYgY/edit?usp=sharing) that follows accepted symbols for representing code. You can use google slides or [draw.io](https://www.drawio.com/) for the flowchart."
      ],
      "metadata": {
        "id": "zpSmche7G_jy"
      }
    },
    {
      "cell_type": "code",
      "source": [
        "import random\n",
        "\n",
        "gamer_dialogue = [\n",
        "    \"you box the zombie like a fish\",\n",
        "    \"take the L!\",\n",
        "    \"get 200 pumped!\"\n",
        "]\n",
        "\n",
        "def start_game():\n",
        "\n",
        "  gamer_dialogue = [\n",
        "    \"you box the zombie like a fish\",\n",
        "    \"the zombie took take the L!\",\n",
        "    \"get 200 pumped!\"\n",
        "]\n",
        "  print(\"Welcome to the Zombie apocole\")\n",
        "  print(\"You are one of the only people still alive.\")\n",
        "  print(\"Choose your path 1 for RetailRow, 2 for LootLake\")\n",
        "  choice=input(\"Enter 1 or 2:\")\n",
        "\n",
        "  if choice == \"1\":\n",
        "    RetailRow_path(gamer_dialogue)\n",
        "  elif choice ==\"2\":\n",
        "    LootLake_path(gamer_dialogue)\n",
        "  else:\n",
        "    print(\"Invaild choice. Please try again.\")\n",
        "    start_game()\n",
        "\n",
        "def RetailRow_path(gamer_dialogue):\n",
        "  print(\"You have chosen the RetailRow path.\")\n",
        "  print(\"Level 1: you have encounter a zombie!\")\n",
        "  action=input(\"Do you want to (1) Fight or (2) Run\")\n",
        "\n",
        "  if action =='1':\n",
        "    print(random.choice(gamer_dialogue))\n",
        "    level_2_RetailRow()\n",
        "  elif action =='2':\n",
        "    print(\"You use a Shockwave granade!\")\n",
        "    level_2_RetailRow()\n",
        "  else:\n",
        "    print(\"Invaild choice. Please try again\")\n",
        "    RetailRow_path()\n",
        "\n",
        "def level_2_RetailRow():\n",
        "  print(\"Level 2 : You have found a camper\")\n",
        "  action = input(\"Do you want to (1) help or (2) Ignore?\")\n",
        "\n",
        "  if action =='1':\n",
        "    print(\"congrats You helped campers and gain teamates.\")\n",
        "    level_3_RetailRow()\n",
        "  elif action =='2':\n",
        "    print(\"Lets go you let those campers!\")\n",
        "    level_3_RetailRow()\n",
        "  else:\n",
        "    print(\"Invaild choice. Please try again\")\n",
        "    level_2_RetailRow()\n",
        "\n",
        "def level_3_RetailRow():\n",
        "  print(\"hello\")\n",
        "\n",
        "def LootLake_path():\n",
        "  print(\"me\")\n",
        "\n",
        "\n",
        "\n",
        "\n",
        "start_game()"
      ],
      "metadata": {
        "id": "DToswc3clKpf",
        "colab": {
          "base_uri": "https://localhost:8080/"
        },
        "outputId": "f526ceea-6fea-4120-8d4d-089a0898bb84"
      },
      "execution_count": 9,
      "outputs": [
        {
          "output_type": "stream",
          "name": "stdout",
          "text": [
            "Welcome to the Zombie apocole\n",
            "You are one of the only people still alive.\n",
            "Choose your path 1 for RetailRow, 2 for LootLake\n",
            "Enter 1 or 2:1\n",
            "You have chosen the RetailRow path.\n",
            "Level 1: you have encounter a zombie!\n",
            "Do you want to (1) Fight or (2) Run1\n",
            "take the L!\n",
            "Level 2 : You have found a camper\n",
            "Do you want to (1) help or (2) Ignore?1\n",
            "congrats You helped campers and gain teamates.\n",
            "hello\n"
          ]
        }
      ]
    },
    {
      "cell_type": "code",
      "source": [],
      "metadata": {
        "id": "O2iUyurBq4Zp"
      },
      "execution_count": null,
      "outputs": []
    }
  ]
}